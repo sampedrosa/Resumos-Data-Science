{
  "nbformat": 4,
  "nbformat_minor": 0,
  "metadata": {
    "colab": {
      "provenance": []
    },
    "kernelspec": {
      "name": "python3",
      "display_name": "Python 3"
    },
    "language_info": {
      "name": "python"
    }
  },
  "cells": [
    {
      "cell_type": "markdown",
      "source": [
        "---\n",
        "# **🚚 RAW-DATA TO STRUCTURED-DATA (DATA ENGINEERING)**\n",
        "---"
      ],
      "metadata": {
        "id": "6FuWBgdEti4P"
      }
    },
    {
      "cell_type": "markdown",
      "source": [
        "A Engenharia de Dados é o campo de criação e definição de sistemas capazes de coletar, manipular e carregar dados em uma aplicação, a formalização da sequência de etapas de maneira \"horizontal\" ou não-cíclica é chamado de **Pipeline**. A área se formalizou mais nos últimos anos, quando a necessidade desses processos exigiam certa inteligência para saber quais dados coletar e como transforma-los da melhor forma, principalmente quando estão em grandes volumes. A ideia é ser um processo de autoaperfeiçoamento, após os dados coletados serem analisados, é utilizado inteligências artificiais para minerar padrões (**Data Mining**) que serão analisados para a próxima coleta de dados ser mais eficiênte, esse processo pode ser chamado de **Fluxo de Dados (DataFlow)**.  \n",
        "\n",
        "Dentre os tipos mais populares, existem:\n",
        "\n",
        "*  **ETL(Extract, Tranform, Load):** É um processo de três partes desde a coleta de dados, seu processamento e transformações necesárias e seu carregamento dentro do sistema como informações a serem utilizadas. Utiliza estratégias, paralelismo e pipelines para melhorar sua eficiência.\n",
        "  *  **Extraction:** Coleta de dados de diferentes formas/sistemas, convergindo no mesmo formato.\n",
        "  *  **Tranform:** Série de processamentos, transformações, regras, funções, manipulações e tratamentos de dados.\n",
        "  *  **Load:** Carregamento dos dados no sistema, geralmente em um Data Warehouse.\n",
        "\n",
        "*  **Data Blending:** É um processo similar ao ETL, porém é mais voltado para lidar com Big Data, uma vez que o dado é extraido e transformado para um uso específico momentâneo. Essa característica torna o processo de preprocessamento do dado mais rápida, facilitando seu uso em grandes volumes de dados, além de economizar memória por não possuir a etapa Load. Geralmente é vinculado a uma atividade da Engenharia de Dados em Nuvem."
      ],
      "metadata": {
        "id": "1BoTu5Vxtmim"
      }
    },
    {
      "cell_type": "markdown",
      "source": [
        "---\n",
        "## **🔼 DATA EXTRACTION**\n",
        "---"
      ],
      "metadata": {
        "id": "qyoqtK3teRag"
      }
    },
    {
      "cell_type": "markdown",
      "source": [
        "Data Extraction/Collection/Gathering é o processo de coleta dos dados em seu formato bruto. Ou seja, recebe os dados não-estruturados e que não passaram por nenhuma manipulação. Esses dados iniciais podem ser em formatos diversos e sem garantia de uma consistência do conteúdo, sua coleta da fonte é chamada de **Scraping** e geralmente inclui pequenas e simples etapas de estruturação desses dados quando necessário para serem passados para o pre-processamento e seus filtros.\n",
        "\n",
        "É uma etapa importante para a Engenharia de Dados, as decisões de como e quais dados serão coletados é extremamente importante para aperfeiçoamentos de pipelines e fluxo de dados."
      ],
      "metadata": {
        "id": "8GsSZkzTisbZ"
      }
    },
    {
      "cell_type": "markdown",
      "source": [
        "---\n",
        "### **▶ Data Integrity**\n",
        "---"
      ],
      "metadata": {
        "id": "zgngy8mOsLul"
      }
    },
    {
      "cell_type": "markdown",
      "source": [
        "Data Integrity é a responsabilidade da integridade da coleta dos dados com foco em prevenção de erros ou diminuição do desempenho do processo de dados. Em casos onde a coleta de dados é realizada sem planejamento, pode gerar problemas durante todas as etapas do pipeline, principalmente quando os dados precisam ter certa integridade e poucos erros, como em pesquisas científicas e processos com pouca quantidade de dados disponíveis. Data Integrity pode ser enxergado como **Data Quality Assurance** em alguns casos."
      ],
      "metadata": {
        "id": "2Tvjc_VXsQSp"
      }
    },
    {
      "cell_type": "markdown",
      "source": [
        "---\n",
        "### **▶ Data Governance**\n",
        "---"
      ],
      "metadata": {
        "id": "QCn9dQmS_9Q7"
      }
    },
    {
      "cell_type": "markdown",
      "source": [
        "Considerando que estamos na Era da Informação, é compreensível que dados sejam um dos recursos mais valiosos atualmente, ainda mais quando a extração de dados de usuários na internet se tornou massivo e em alguns casos irresponsável, principalmente por Big Techs que retêm tanto poder. Por isso, vem se popularizando o termo Data Governance que anteriormente era quase um sinônimo de Data Integrity ou vagamente relacionava-se com governança e gerenciamentos dos dados coletados, mas adquiriu conceitos mais políticos e legais sobre a segurança e extração de dados.\n",
        "\n",
        "Após discussões sobre direitos de dados pessoais e escândalos como o Facebook fornecendo informações de usuários para a Cambridge Analytica visando campanhas políticas, a temática de segurança dos dados ganhou notoriedade e impactou em diversas legislações de todo o mundo, como a **LGPD (Lei Geral de Proteção dos Dados)** aqui no Brasil. Dessa maneira, Data Governance entra em vigor para auxiliar empresas e ferramentas de coleta de dados com intuíto de aperfeiçoar a extração de forma honesta e com responsabilidade, garantindo ainda a qualidade das informações resultantes.\n",
        "\n",
        "Na perspectiva da LGPD, dados somente podem ser manuseados se forem públicos ou com consentimento transparente nos casos de dados pessoais, com adendo para dados pessoais sensíveis como etnia, religião, biometria e etc. Todos os atuantes no Brasil estão mediante a ANPD (Autoridade Nacional de Proteção de Dados). Dessa maneira, dados que estão disponíveis na internet em plataformas que exigem consentimento para publicação podem ser considerados públicos com possibilidade de extração, mas ainda podendo se enquadrar em legislações de plágios ou difamações dependendo da funcionalidade."
      ],
      "metadata": {
        "id": "pRv1EXUeiKj9"
      }
    },
    {
      "cell_type": "markdown",
      "source": [
        "---\n",
        "## **🔼 DATA PREPROCESSING**\n",
        "---"
      ],
      "metadata": {
        "id": "Md4Xfr-G-8h8"
      }
    },
    {
      "cell_type": "markdown",
      "source": [
        "Data Preprocessing/Preparation é a filtração, limpeza, manipulação e normalização dos dados antes que eles sejam processados nas etapas posteriores de transformação e análise de dados. É considerado uma das etapas mais fundamentais de uma Pipeline, uma vez que modelagem e transformações necessitam de um dataset limpo e estruturado. As entradas de modelos de inteligência artificial são sensíveis e pouco flexíveis, podendo não funcionar com dados corrompidos.\n",
        "\n",
        "Em conjuntos de dados variados coletados para serem utilizados em aprendizado de máquina, é comum não ter a percepção de qual informação/atributo (feature) é mais propícia para a análise, então é comum aplicar conceitos de **Data Mining** no pre-processamento para identificação e eliminação de atributos/padrões pouco impactantes ou com baixa correlação."
      ],
      "metadata": {
        "id": "UKvO20wliqDN"
      }
    },
    {
      "cell_type": "markdown",
      "source": [
        "---\n",
        "### **▶ Data Cleaning**\n",
        "---"
      ],
      "metadata": {
        "id": "Tpq6zeVe7u60"
      }
    },
    {
      "cell_type": "markdown",
      "source": [
        "Importante lembrar que durante um tratamento de dados, não devemos alterar dados factuais de um banco, isso alteraria um valor de busca importante. Porém, em análise de dados envolvendo dataframes e dashboards, é possível alterar dados como forma de limpeza para que as informações inexistentes ou preenchidas de forma errada não afetem a análise.\n",
        "Como por exemplo ter um cadastro com as idades de pessoas e querer saber a média. Caso tenha uma pessoa com idade errada, como 250 anos ou -20 anos, a análise da média seria afetada consideravelmente. Assim, é possível remover essas idades erradas e preencher com a mediana ou média para a análise ser pouco afetada."
      ],
      "metadata": {
        "id": "xUirzG5wku61"
      }
    },
    {
      "cell_type": "code",
      "source": [
        "import pandas as pd\n",
        "\n",
        "people = pd.DataFrame([['Tom', 32, 'USA', 'Male'], ['João', 46, 'Brazil', 'M'], ['Ben', 41, 'USA', 'M'], ['Ken', 246, 'Canada', 'Male'],\n",
        "          ['Claire', 22, 'USA', 'Female'], ['Bruce', 28, 'USA', 'Male'], ['Miller', 65, 'Germany', 'M'], ['Carmen', 60, 'USA', 'F'],\n",
        "          ['Marcos', 14, 'Brazil', 'Male'], ['Gerald', 38, 'USA', 'Male'], ['Zian', 23, 'USA', 'M'], ['Lucia', 78, 'Mexico', 'F'],\n",
        "          ['Jim', 11, 'USA', 'Male'], ['Jack', 11, 'USA', 'M'], ['Boris', 171, 'France', 'Male']])\n",
        "people.columns = [\"Name\", \"Age\", \"Country\", \"Sex\"]"
      ],
      "metadata": {
        "id": "Vw_ZaGWGTwlz"
      },
      "execution_count": null,
      "outputs": []
    },
    {
      "cell_type": "code",
      "source": [
        "print(people['Age'].describe())\n",
        "# We can see that we have a problem with age, cant be more than 120\n",
        "mean = people['Age'].mean()\n",
        "print(f'\\nOld Mean:{mean}')\n",
        "\n",
        "# Changing the wrong values to a median\n",
        "median = people['Age'].median()\n",
        "if median > 0 and median < 120:\n",
        "  people.loc[(people['Age'] < 0) | (people['Age'] > 120), 'Age'] = median\n",
        "else:\n",
        "  print(\"\\nMedian is an invalid age!\")\n",
        "\n",
        "mean = people['Age'].mean()\n",
        "print(f'\\nNew Mean:{mean}')\n"
      ],
      "metadata": {
        "id": "4iQfKtqwURGp"
      },
      "execution_count": null,
      "outputs": []
    },
    {
      "cell_type": "code",
      "source": [
        "# Grouping Sex with Number of Repetitions\n",
        "group = people.groupby(['Sex']).size()\n",
        "print(\"Before Fixing\")\n",
        "display(group)\n",
        "# We can see a problem with Sex, F and Female or M and Male are the same, but are registered different\n",
        "\n",
        "# To fix that, we can use logical operations\n",
        "people.loc[people['Sex'] == 'F', 'Sex'] = \"Female\"\n",
        "people.loc[people['Sex'] == 'M', 'Sex'] = \"Male\"\n",
        "group = people.groupby(['Sex']).size()\n",
        "print(\"\\nAfter Fixing\")\n",
        "display(group)"
      ],
      "metadata": {
        "colab": {
          "base_uri": "https://localhost:8080/",
          "height": 243
        },
        "id": "_XJFRF46bGm1",
        "outputId": "efeebbc7-5795-46de-b469-07d9bc988efe"
      },
      "execution_count": null,
      "outputs": [
        {
          "output_type": "stream",
          "name": "stdout",
          "text": [
            "Before Fixing\n"
          ]
        },
        {
          "output_type": "display_data",
          "data": {
            "text/plain": [
              "Sex\n",
              "F         2\n",
              "Female    1\n",
              "M         5\n",
              "Male      7\n",
              "dtype: int64"
            ]
          },
          "metadata": {}
        },
        {
          "output_type": "stream",
          "name": "stdout",
          "text": [
            "\n",
            "After Fixing\n"
          ]
        },
        {
          "output_type": "display_data",
          "data": {
            "text/plain": [
              "Sex\n",
              "Female     3\n",
              "Male      12\n",
              "dtype: int64"
            ]
          },
          "metadata": {}
        }
      ]
    },
    {
      "cell_type": "code",
      "source": [
        "# Search for null values\n",
        "people.loc[len(people)] = {'Name':'Viktor', 'Country':'Russia', 'Sex':'Male'}\n",
        "people.loc[len(people)] = {'Name':'Greg', 'Country':'USA', 'Sex':'Male'}\n",
        "\n",
        "print(people.isnull().sum()) # search for null values\n",
        "\n",
        "# Filling the nulls with mean/averege of Age\n",
        "mean = people['Age'].mean()\n",
        "people['Age'].fillna(mean, inplace=True)\n",
        "print(people.isnull().sum())"
      ],
      "metadata": {
        "colab": {
          "base_uri": "https://localhost:8080/"
        },
        "id": "DqVpY-t3RHe_",
        "outputId": "0d2bc7e5-1b1f-4067-888d-09a357e0a677"
      },
      "execution_count": null,
      "outputs": [
        {
          "output_type": "stream",
          "name": "stdout",
          "text": [
            "Name       0\n",
            "Age        2\n",
            "Country    0\n",
            "Sex        0\n",
            "dtype: int64\n",
            "Name       0\n",
            "Age        0\n",
            "Country    0\n",
            "Sex        0\n",
            "dtype: int64\n"
          ]
        }
      ]
    },
    {
      "cell_type": "code",
      "source": [
        "# Other Functions\n",
        "people.drop_duplicates(subset='Name', keep='first', inplace=False) # Drop repetitive data based in subset"
      ],
      "metadata": {
        "id": "xhCdTyj73MR9"
      },
      "execution_count": null,
      "outputs": []
    },
    {
      "cell_type": "markdown",
      "source": [
        "---\n",
        "### **▶ Instance Selection and Normalization**\n",
        "---"
      ],
      "metadata": {
        "id": "iA2yBMS170q1"
      }
    },
    {
      "cell_type": "markdown",
      "source": [
        "O preprocessamento exige que os dados sejam compatíveis em formato e quantidade para prosseguir com as próximas etapas de transformação e análise, principalmente por conta do custo computacional que os algoritmos de modelagem necessitam.\n",
        "\n",
        "*  **Instance Selection**: É uma redução ou simplificação de um dataset para um volume de dados compatível e viável com os recursos computacionais. Muitas vezes é necessário eliminar atributos ou porcentagem de instâncias para aplicação dos seguintes algoritmos de forma eficiênte, sacrificando um pouco sua acurácia.\n",
        "\n",
        "*  **Normalization:** É normalização de atributos ou tipos de dados em uma escala mais acessível para os algoritmos de modelagem. Também pode ser utilizado para diminuir o valor do dado em sí, reduzindo seu tamanho em bytes e gerando mais performance, como por exemplo trocar um atributo \"Positivo\" e \"Negativo\" por 0 e 1."
      ],
      "metadata": {
        "id": "g0ht0zuT8DSn"
      }
    },
    {
      "cell_type": "markdown",
      "source": [
        "---\n",
        "### **▶ Data Transformation**\n",
        "---"
      ],
      "metadata": {
        "id": "fFnDzYIu79jO"
      }
    },
    {
      "cell_type": "markdown",
      "source": [
        "Apesar do termo Data Transformation ser um pouco vago, principalmente na ideia do que seria uma Transformação ou sendo confundindo com Pre-Processamento, essa etapa pode ser considerado como a responsabilidade de converter os dados de um formato para outro com intenção de seu armazenamento em bases de dados, também pode ser a transferência, mudança, união ou compactação de uma base de dados para outra.\n",
        "\n",
        "Em uma Pipeline, ETL ou DataFlow, a transformação segue geralmente três etapas:\n",
        "*  **Data Mapping:** Mapeamento e entendimento dos dados e sua estrutura e definição das regras e condições para seguir com a transformação.\n",
        "*  **Code Generation:** Geração automática ou semi-automática dos códigos de transformação condizentes com as regras estabelecidas dentro do mapeamento dos dados.\n",
        "*  **Execution:** Etapa de execução da transferência visando a segurança dos dados e sistema sem aumentar drasticamente o tempo de conclusão."
      ],
      "metadata": {
        "id": "wkPRvS67_l3x"
      }
    },
    {
      "cell_type": "markdown",
      "source": [
        "---\n",
        "## **🔼 DATA LOADING**\n",
        "---"
      ],
      "metadata": {
        "id": "gNuTpHzR--uA"
      }
    },
    {
      "cell_type": "markdown",
      "source": [
        "Data Loading/Storage é a etapa de armazenamento de dados, após serem coletados e pre-processados, em um local intermediário de fácil acesso e manipulação para serem usados quando necessários em análises e demandas. Três populares tipos de armazenamentos são:\n",
        "*  **Data Bases:** Bancos de Dados Relacionais ou Não que guardam as informações e são administradas pelos DBAs. Necessário para quando os dados precisam ser bem estruturados.\n",
        "*  **Data Warehouse:** É um armazém de variados dados especializado em utilizações e demandas de Análise de Dados, BI e Processamento de Dados. Os conjuntos de dados são menos estruturados e servem especialmente para serem selecionados quando necessário.\n",
        "*  **Data Marts:** É um Data Warehouse que armazena apenas dados utilizados pela mesma equipe ou time empresarial. Aumenta a eficiência de um departamento que utiliza chamadas desses dados constantemente.\n",
        "\n",
        "A forma que os dados são armazenados é importante e a montagem da arquitetura ETL é crucial para seu funcionamento, uma vez que a base de dado precisa ser atualizada para receber novas instâncias, necessitando de uma administração e gerenciamento especializada. Há varios serviços de nuvem que oferecem esse papel para empresas."
      ],
      "metadata": {
        "id": "L9pZ5JEZFhmD"
      }
    },
    {
      "cell_type": "markdown",
      "source": [
        "---\n",
        "### **▶ Data From SQL DB's**\n",
        "---"
      ],
      "metadata": {
        "id": "fo03kuAIiF8W"
      }
    },
    {
      "cell_type": "markdown",
      "source": [
        "Conexão no banco de dados **MySQL** e a criação do ponteiro:"
      ],
      "metadata": {
        "id": "acAA026KhtBj"
      }
    },
    {
      "cell_type": "code",
      "source": [
        "!pip install -q mysql-connector"
      ],
      "metadata": {
        "id": "zOxipECNdit5"
      },
      "execution_count": null,
      "outputs": []
    },
    {
      "cell_type": "code",
      "source": [
        "import mysql.connector\n",
        "\n",
        "db = mysql.connector.connect(host='localhost', user='root', password='password', database='dbname')\n",
        "\n",
        "cursor = db.cursor()"
      ],
      "metadata": {
        "id": "g5bza0hCdmje"
      },
      "execution_count": null,
      "outputs": []
    },
    {
      "cell_type": "markdown",
      "source": [
        "Conexão no banco de dados **PostgreSQL** e a criação do ponteiro:"
      ],
      "metadata": {
        "id": "AtGSVTnzjXqO"
      }
    },
    {
      "cell_type": "code",
      "source": [
        "!pip install -q psycopg2"
      ],
      "metadata": {
        "id": "jPrW9hSyjXp6"
      },
      "execution_count": null,
      "outputs": []
    },
    {
      "cell_type": "code",
      "source": [
        "import psycopg2\n",
        "\n",
        "db = psycopg2.connect(host='localhost', database='dbname', user='postgres', password='password', port=0000)\n",
        "\n",
        "cursor = db.cursor()"
      ],
      "metadata": {
        "id": "JWuxZDgyjXqO"
      },
      "execution_count": null,
      "outputs": []
    },
    {
      "cell_type": "markdown",
      "source": [
        "Realização do CRUD (Create Read Update Delete):"
      ],
      "metadata": {
        "id": "vGj2y6mchzvM"
      }
    },
    {
      "cell_type": "code",
      "source": [
        "crud = 'SELECT * FROM TABLE'\n",
        "cursor.execute(crud)\n",
        "\n",
        "# READ\n",
        "read = cursor.fetchall() # list of tuples (rows)\n",
        "dataset = pd.DataFrame(read)\n",
        "\n",
        "# CREATE, UPDATE, DELETE\n",
        "db.commit()\n",
        "\n",
        "cursor.close()"
      ],
      "metadata": {
        "id": "UF5sCkCqfyvi"
      },
      "execution_count": null,
      "outputs": []
    },
    {
      "cell_type": "markdown",
      "source": [
        "---\n",
        "### **▶ Data From NoSQL DB's**\n",
        "---"
      ],
      "metadata": {
        "id": "JzZkW3Rulc5j"
      }
    },
    {
      "cell_type": "markdown",
      "source": [
        "Conexão no banco de dados **MongoDB** e acesso à coleção:"
      ],
      "metadata": {
        "id": "ZU2yoefxoWFT"
      }
    },
    {
      "cell_type": "code",
      "source": [
        "!pip install -q pymongo"
      ],
      "metadata": {
        "colab": {
          "base_uri": "https://localhost:8080/"
        },
        "id": "Bi_WBUwYmskB",
        "outputId": "ed37295c-3fea-47fb-a588-1d3e21c898b8"
      },
      "execution_count": null,
      "outputs": [
        {
          "output_type": "stream",
          "name": "stdout",
          "text": [
            "\u001b[2K     \u001b[90m━━━━━━━━━━━━━━━━━━━━━━━━━━━━━━━━━━━━━━━━\u001b[0m \u001b[32m677.1/677.1 kB\u001b[0m \u001b[31m5.3 MB/s\u001b[0m eta \u001b[36m0:00:00\u001b[0m\n",
            "\u001b[2K     \u001b[90m━━━━━━━━━━━━━━━━━━━━━━━━━━━━━━━━━━━━━━━━\u001b[0m \u001b[32m300.4/300.4 kB\u001b[0m \u001b[31m11.6 MB/s\u001b[0m eta \u001b[36m0:00:00\u001b[0m\n",
            "\u001b[?25h"
          ]
        }
      ]
    },
    {
      "cell_type": "code",
      "source": [
        "from pymongo import MongoClient\n",
        "\n",
        "client = MongoClient('mongo://localhost:00000/')\n",
        "db = client.dbname\n",
        "colection = db.colectname"
      ],
      "metadata": {
        "id": "fo88cKwdmxnQ"
      },
      "execution_count": null,
      "outputs": []
    },
    {
      "cell_type": "markdown",
      "source": [
        "Acesso aos dados é feita pelo find com uso de dicionários:"
      ],
      "metadata": {
        "id": "f03O7f75ovZz"
      }
    },
    {
      "cell_type": "code",
      "source": [
        "colect = colection.find() # list of dictionaries\n",
        "dataset = pd.DataFrame(colect)\n",
        "\n",
        "dictionary = {\"key\": \"data\"}\n",
        "data = colection.find_one(dictionary)\n",
        "\n",
        "client.close()"
      ],
      "metadata": {
        "id": "QIs0kVY4oeN-"
      },
      "execution_count": null,
      "outputs": []
    },
    {
      "cell_type": "markdown",
      "source": [
        "---\n",
        "## **🔼 BIG DATA**\n",
        "---"
      ],
      "metadata": {
        "id": "pHjjfl6QBcRL"
      }
    },
    {
      "cell_type": "markdown",
      "source": [
        "O aumento da quantidade de dados gerou um termo próprio, **Big Data**, para casos em que o dataset é volumoso ou complexo demais para ser tratado da mesma maneira com as técnicas e etapas de Processamento de Dados. Um dataset tem seu tamanho analisado de forma bidimensional, suas instâncias/linhas e seus atributos/colunas, o primeiro torna-o volumoso, enquanto o segundo aumenta sua complexidade para modelagens. Vale ressaltar que dividir um Big Data o faz perder características úteis dentro do processo de dados, necessitando de métodos e ferramentas específicas para lidar com esses casos.\n",
        "\n",
        "As etapas do processamento de Big Data não se distanciam muito do que é utilizado para datasets menores, ainda mais por ser algo relativamente novo e menos comum, mas necessitam de arquiteturas especiais que utilizam de Computação Paralela (Computação Distribuída) e outras estratégias para que a performance do processamento não seja inviável. Como há Big Datas maiores e menores, cada caso pode ter um tratamento diferente e geralmente seu gerenciamento é terceirizado por Serviços de Nuvem (**Cloud**) específicos."
      ],
      "metadata": {
        "id": "gHmAas3sKSkg"
      }
    },
    {
      "cell_type": "markdown",
      "source": [
        "---\n",
        "### **▶ CLOUD**\n",
        "---\n"
      ],
      "metadata": {
        "id": "mUY9f_DorKgo"
      }
    },
    {
      "cell_type": "markdown",
      "source": [
        "Computação na Nuvem é o termo para a disponibilização escalável de recursos computacionais, principalmente armazenamento e processamento. De forma simplificada é uma terceirização computacional via internet. Amazon Web Services (**AWS**), Google Cloud Platform (**GCP**), Microsoft **Azure** e Oracle Cloud Infrastructure (**OCI**) são os provedores mais populares por conter ferramentas, plataformas e softwares auxiliares na gestão dos serviços, todas contento uma ampla engenharia envolvendo redes de computadores e sistemas distribuídos. Há tipos diferentes de serviços, entre eles:\n",
        "*  **WaaS (Warehouse as a Service):** Serviços de armazenamento.\n",
        "*  **IaaS (Infrastructure as a Service):** Serviços de infraestrutura em geral como redes, segurança e backup.\n",
        "*  **PaaS (Plataform as a Service):** Serviços de plataformas e ferramentas para desenvolvimento.\n",
        "*  **SaaS (Software as a Service):** Serviços de programas e aplicações completos.\n",
        "\n",
        "Na área de dados, tanto o armazenamento quanto o processamento são fatores que tendem a serem limitantes, principalmente quando há trabalho envolvendo grande quantidade de dados ou algoritmos de aprendizado muito pesados."
      ],
      "metadata": {
        "id": "GuJzhjXdeXTP"
      }
    },
    {
      "cell_type": "markdown",
      "source": [
        "---\n",
        "#### **Cloud Providers**\n",
        "---"
      ],
      "metadata": {
        "id": "-vxZW1rkxRv3"
      }
    },
    {
      "cell_type": "markdown",
      "source": [
        "##### **AWS**\n"
      ],
      "metadata": {
        "id": "gvQwu0ZTxflc"
      }
    },
    {
      "cell_type": "markdown",
      "source": [
        "Na área de dados o AWS possui serviços como:\n",
        "*  **Amazon S3:** Armazena qualquer dado e funciona como um Data Lake\n",
        "*  **Amazon Lake Formation:** Organiza o Data Lake com preparação e centralização dos dados.\n",
        "*  **Amazon EMR:** Serviço para execução de workloads para Big Data.\n",
        "*  **Amazon Athena:** Serviço de análise de dados direto do Data Lake.\n",
        "*  **Amazon DataZone:** Serviços de BI.\n",
        "*  **Amazon Sagemaker:** Serviço de machine learning."
      ],
      "metadata": {
        "id": "bzuyhLdex3Qw"
      }
    },
    {
      "cell_type": "markdown",
      "source": [
        "![image.png](data:image/png;base64,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)"
      ],
      "metadata": {
        "id": "YIZ7MVtJ0YDD"
      }
    },
    {
      "cell_type": "markdown",
      "source": [
        "##### **Azure**"
      ],
      "metadata": {
        "id": "dWgI0S4Bxmyp"
      }
    },
    {
      "cell_type": "markdown",
      "source": [
        "Na área de dados, o Azure possui serviços como:\n",
        "* **Azure Data Lake:** Serviço de armazenamento de Data Lake.\n",
        "* **Azure Data Factory:** Serviço de engenharia de dados com pipelines.\n",
        "* **Azure Anlaysis:** Serviço de análise de dados.\n",
        "* **Azure Data Explorer:** Análise de dados rápida direto de Big Data.\n",
        "* **Azure AI:** Serviços de inteligência artificial, aprimorado pelo GPT da OpenAI."
      ],
      "metadata": {
        "id": "gtMePR481_ly"
      }
    },
    {
      "cell_type": "markdown",
      "source": [
        "##### **Google Cloud**"
      ],
      "metadata": {
        "id": "cZ5-TDZHxp-L"
      }
    },
    {
      "cell_type": "markdown",
      "source": [
        "Na área de dados, o GCP possui serviços como:\n",
        "* **Cloud Storage:** Serviço de armazenamento geral.\n",
        "* **Cloud Composer:** Serviço de engenharia de dados com pipelines.\n",
        "* **Looker:** Serviço de análise de dados e BI.\n",
        "* **BigQuery:** Análise de dados rápida direto de Big Data.\n",
        "* **Vertex AI:** Serviços de inteligência artificial, aprimorado pelo GPT Gemini."
      ],
      "metadata": {
        "id": "9ADz5rej5i8I"
      }
    },
    {
      "cell_type": "markdown",
      "source": [
        "##### **OCI**"
      ],
      "metadata": {
        "id": "fTR-eks5xwkM"
      }
    },
    {
      "cell_type": "markdown",
      "source": [
        "Na área de dados, o OCI possui serviços como:\n",
        "* **OCI Object Storage:** Armazenamento de dados em geral.\n",
        "* **OCI Analytics:** Serviço de coleta e análise de dados.\n",
        "* **OCI Data Flow:** Serviço de processamento de Big Data.\n",
        "* **OCI Data Integration:** Serviço de engenharia de dados com ETL.\n",
        "* **OCI GoldenGate:** Análise de dados rápida direto de Big Data.\n",
        "* **OCI ERP:** Serviço de BI.\n",
        "* **OCI AI:** Serviços de inteligência artificial, aprimorado pela parceria com NVIDIA e suas potentes GPUs."
      ],
      "metadata": {
        "id": "JPooSL3075mV"
      }
    },
    {
      "cell_type": "markdown",
      "source": [
        "---\n",
        "### **▶ BIG DATA TOOLS**\n",
        "---"
      ],
      "metadata": {
        "id": "6X8myM9MN5nb"
      }
    },
    {
      "cell_type": "markdown",
      "source": [
        "---\n",
        "#### **▶ Apache Spark**\n",
        "---"
      ],
      "metadata": {
        "id": "q1UtRVjjsW53"
      }
    },
    {
      "cell_type": "markdown",
      "source": [
        "Apache Spark é um Framework de processamento de dados utilizando computação distribuída para criação de clusters com ênfase em paralelismo e tolerância a falha. Sua arquitetura chama Resilient Distributed Dataset (RDD) e é disponível em Python, R, Java e sua derivação funcional Scala. Por ser um sistema distribuído, exige a utilização de Cloud e por isso é popular em processamento de Big Data.\n",
        "\n",
        "O Spark Core é a fundação de quatro tipos/distribuições de Spark:\n",
        "*  **Spark Streaming:** Utilizado em processamentos de dados de uma série temporal, geralmente recebendo pacotes de dados sequenciais.\n",
        "\n",
        "*  **Spark ML Library:** Utilizado para aplicações de machine learning em processamentos de dados.\n",
        "\n",
        "*  **Spark SQL:** Utilizado para processamentos de dados tabulados em bancos de dados.\n",
        "\n",
        "*  **Spark GraphX:** Utilizado para processamentos em estruturas de gráfos.\n"
      ],
      "metadata": {
        "id": "MRKSiKFoxVS7"
      }
    },
    {
      "cell_type": "markdown",
      "source": [
        "O Spark possui as estruturas padrões de dados como Data Frame e Serie, só que diferentemente do Pandas, essas estruturas são imutáveis, o que garante a tolerância a falha. A duas operações que essas estruturas podem sofrer no Spark:\n",
        "*  **Transformation:** É um processo sequencial em espera de transformação da estrutura de dados.\n",
        "*  **Actions:** Efetivação da pilha de transformações, cada processo gera uma nova estrutura.\n",
        "\n",
        "As transformações acompanhadas da ação é chamada de **Lazy Evaluation**."
      ],
      "metadata": {
        "id": "7QZd0LFxv5aP"
      }
    },
    {
      "cell_type": "markdown",
      "source": [
        "##### **Databricks**"
      ],
      "metadata": {
        "id": "bxpO2G6ycKMR"
      }
    },
    {
      "cell_type": "markdown",
      "source": [
        "Os mesmos criadores do Apache Spark criaram uma plataforma web para trabalhar com o Spark, chamada de Databricks. É uma provedora de criação e gestão de clusters distribuídos em cloud com integração de Notebooks para análise de dados e aplicações de inteligência artificial.\n",
        "\n",
        "Atualmente o Databricks está integrado em um serviço da Microsoft, o Azure Databricks e com a Google no BigQuery. Além disso possui o [Databricks Community](https://community.databricks.com/) com registros gratuitos e compartilhamento de projetos entre usuários da comunidade."
      ],
      "metadata": {
        "id": "4mK5ZOf-cMRc"
      }
    },
    {
      "cell_type": "markdown",
      "source": [
        "Para utilização do Databricks, é necessário criar um Cluster para obter as instâncias com os recursos computacionais distribuídos. Após a criação do cluster é necessário importar os dados que serão armazenados na nuvem e depois utilizar Notebooks para funcionamento do código com os dados importados dentro do cluster selecionado."
      ],
      "metadata": {
        "id": "BVO1Lnfw3ojn"
      }
    },
    {
      "cell_type": "markdown",
      "source": [
        "---\n",
        "#### **▶ Hadoop**\n",
        "---\n"
      ],
      "metadata": {
        "id": "IXn3D8058PxC"
      }
    },
    {
      "cell_type": "markdown",
      "source": [
        "Hadoop é um framework de computação distribuida voltada para processamento de Big Datas. Como um sistema distribuido, há clusters de computadores processando e armazenando os dados controlados por um prgrama mestre, garantindo tolerância a falhas e um nível computacional escalável. Pode ser dividido em etapas:\n",
        "\n",
        "*  **Map Reduce:** Reduzir os dados em blocos de processamento entre o sistema distribuido. Primeiramente há um mapeamento e depois a redução dos dados, ambos paralelamente.\n",
        "\n",
        "*  **HDFS:** O Hadoop Distributed File System é um sistema de arquivos com potencial escalável por ser distribuido, podendo ter alta magnitude em tamanho.\n",
        "\n",
        "*  **Yarn:** O Yarn é o gerenciador de recursos computacionais, responsável pela alocação, agendamento e priorização do funcionamento do sistema distribuído"
      ],
      "metadata": {
        "id": "U_BF8S1X8VKG"
      }
    }
  ]
}